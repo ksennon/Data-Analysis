{
  "nbformat": 4,
  "nbformat_minor": 0,
  "metadata": {
    "colab": {
      "provenance": [],
      "authorship_tag": "ABX9TyNJ7o2y/vn9CNo3qpRthDLt",
      "include_colab_link": true
    },
    "kernelspec": {
      "name": "python3",
      "display_name": "Python 3"
    },
    "language_info": {
      "name": "python"
    }
  },
  "cells": [
    {
      "cell_type": "markdown",
      "metadata": {
        "id": "view-in-github",
        "colab_type": "text"
      },
      "source": [
        "<a href=\"https://colab.research.google.com/github/ksennon/Lab1_DA_KKA/blob/main/DA_Lab4_task2.ipynb\" target=\"_parent\"><img src=\"https://colab.research.google.com/assets/colab-badge.svg\" alt=\"Open In Colab\"/></a>"
      ]
    },
    {
      "cell_type": "markdown",
      "source": [
        "###Генерація тексту"
      ],
      "metadata": {
        "id": "qkYMs4YD8pAM"
      }
    },
    {
      "cell_type": "code",
      "source": [
        "from transformers import pipeline, AutoTokenizer, AutoModelForCausalLM\n",
        "\n",
        "# Завантаження токенізатора та моделі\n",
        "tokenizer = AutoTokenizer.from_pretrained(\"benjamin/gpt2-wechsel-ukrainian\")\n",
        "model = AutoModelForCausalLM.from_pretrained(\"benjamin/gpt2-wechsel-ukrainian\")\n",
        "\n",
        "# Створення пайплайну для генерації тексту\n",
        "pipe = pipeline(\"text-generation\", model=model, tokenizer=tokenizer)\n",
        "\n",
        "# Генерація тексту українською\n",
        "prompt = \"Україна має багато\"\n",
        "generated_text = pipe(prompt, max_length=30, num_return_sequences=1, num_beams=100, temperature=0.75)[0]['generated_text']\n",
        "\n",
        "# Виведення результату\n",
        "print(generated_text)\n"
      ],
      "metadata": {
        "colab": {
          "base_uri": "https://localhost:8080/"
        },
        "id": "U1qzNs9WDCG0",
        "outputId": "b3e89e8a-1b1c-45e5-82b1-9814d8880570"
      },
      "execution_count": 37,
      "outputs": [
        {
          "output_type": "stream",
          "name": "stderr",
          "text": [
            "Setting `pad_token_id` to `eos_token_id`:50256 for open-end generation.\n"
          ]
        },
        {
          "output_type": "stream",
          "name": "stdout",
          "text": [
            "Україна має багато спільного з іншими країнами Європи, зокрема з Польщею, Угорщиною, Словаччиною, Румунією, Чехією, Словаччиною\n"
          ]
        }
      ]
    },
    {
      "cell_type": "code",
      "source": [
        "# Створення пайплайну для генерації тексту\n",
        "pipe = pipeline(\"text-generation\", model=model, tokenizer=tokenizer)\n",
        "\n",
        "# Генерація тексту українською\n",
        "prompt = \"Україна має багато\"\n",
        "generated_text = pipe(prompt, max_length=30, num_return_sequences=1, num_beams=10, temperature=0.4)[0]['generated_text']\n",
        "\n",
        "# Виведення результату\n",
        "print(generated_text)"
      ],
      "metadata": {
        "colab": {
          "base_uri": "https://localhost:8080/"
        },
        "id": "lpYnfJg7Di4x",
        "outputId": "e09011cc-a064-4f26-af28-0b9ab168d32d"
      },
      "execution_count": 32,
      "outputs": [
        {
          "output_type": "stream",
          "name": "stderr",
          "text": [
            "Setting `pad_token_id` to `eos_token_id`:50256 for open-end generation.\n"
          ]
        },
        {
          "output_type": "stream",
          "name": "stdout",
          "text": [
            "Україна має багато можливостей для розвитку, але не всі з них можуть бути реалізовані в повній мірі. Про це сказав Прем’єр-міністр України Володимир Гройсман\n"
          ]
        }
      ]
    },
    {
      "cell_type": "code",
      "source": [
        "# Створення пайплайну для генерації тексту\n",
        "pipe = pipeline(\"text-generation\", model=model, tokenizer=tokenizer)\n",
        "\n",
        "# Генерація тексту українською\n",
        "prompt = \"Столиця України це\"\n",
        "generated_text = pipe(prompt, max_length=30, num_return_sequences=1, num_beams=10, temperature=0.8)[0]['generated_text']\n",
        "\n",
        "# Виведення результату\n",
        "print(generated_text)"
      ],
      "metadata": {
        "colab": {
          "base_uri": "https://localhost:8080/"
        },
        "id": "UdiCEmOtEHH8",
        "outputId": "4c8f8529-87d6-452a-8c01-cb27bf918e9e"
      },
      "execution_count": 34,
      "outputs": [
        {
          "output_type": "stream",
          "name": "stderr",
          "text": [
            "Setting `pad_token_id` to `eos_token_id`:50256 for open-end generation.\n"
          ]
        },
        {
          "output_type": "stream",
          "name": "stdout",
          "text": [
            "Столиця України це не тільки мальовничі краєвиди, а й історичні пам’ятки, які не залишать байдужим навіть найвибагливішого туриста.\n"
          ]
        }
      ]
    },
    {
      "cell_type": "markdown",
      "source": [
        "###Генерація відповідей на питання"
      ],
      "metadata": {
        "id": "uVwN5b-XGGSm"
      }
    },
    {
      "cell_type": "code",
      "source": [
        "from transformers import pipeline, AutoTokenizer, AutoModelForQuestionAnswering\n",
        "\n",
        "# Завантаження токенізатора та моделі\n",
        "tokenizer = AutoTokenizer.from_pretrained(\"robinhad/ukrainian-qa\")\n",
        "model = AutoModelForQuestionAnswering.from_pretrained(\"robinhad/ukrainian-qa\")\n",
        "\n",
        "# Створення пайплайну для відповідей на питання\n",
        "pipe = pipeline(\"question-answering\", model=model, tokenizer=tokenizer)\n",
        "\n",
        "# Задання тексту та питання\n",
        "context = \"Київ - столиця України.\"\n",
        "question = \"Яка столиця України?\"\n",
        "\n",
        "# Отримання відповіді на питання\n",
        "answer = pipe(question=question, context=context)\n",
        "\n",
        "# Виведення результату\n",
        "print(answer)\n"
      ],
      "metadata": {
        "colab": {
          "base_uri": "https://localhost:8080/"
        },
        "id": "QxZqFhXqFmgT",
        "outputId": "6996e9e0-adc0-459d-8960-23ea383dd43b"
      },
      "execution_count": 45,
      "outputs": [
        {
          "output_type": "stream",
          "name": "stdout",
          "text": [
            "{'score': 0.9995424151420593, 'start': 0, 'end': 4, 'answer': 'Київ'}\n"
          ]
        }
      ]
    },
    {
      "cell_type": "markdown",
      "source": [
        "###Класифікація тексту"
      ],
      "metadata": {
        "id": "7SKv66v7Hxi0"
      }
    },
    {
      "cell_type": "code",
      "source": [
        "# Load model directly\n",
        "from transformers import AutoTokenizer, AutoModelForSequenceClassification\n",
        "\n",
        "tokenizer = AutoTokenizer.from_pretrained(\"YaraKyrychenko/bert-nli-ukraine-solidarity\")\n",
        "model = AutoModelForSequenceClassification.from_pretrained(\"YaraKyrychenko/bert-nli-ukraine-solidarity\")\n",
        "\n",
        "# Створення пайплайну для класифікації тексту\n",
        "classification_pipe = pipeline(\"text-classification\", model=model, tokenizer=tokenizer)\n",
        "\n",
        "# Класифікація тексту\n",
        "text = \"Сьогодні я проспала ранок та прокинулась в обід\"\n",
        "result = classification_pipe(text)\n",
        "\n",
        "# Отримання текстової етикетки класу\n",
        "label = result[0]['label']\n",
        "print(f\"Клас тексту: {label}\")\n"
      ],
      "metadata": {
        "colab": {
          "base_uri": "https://localhost:8080/"
        },
        "id": "sWlvhP3bGTZU",
        "outputId": "1c9d58a1-d5ce-4e2f-acb6-80c3ce9b1abd"
      },
      "execution_count": 44,
      "outputs": [
        {
          "output_type": "stream",
          "name": "stdout",
          "text": [
            "Клас тексту: neutral\n"
          ]
        }
      ]
    }
  ]
}